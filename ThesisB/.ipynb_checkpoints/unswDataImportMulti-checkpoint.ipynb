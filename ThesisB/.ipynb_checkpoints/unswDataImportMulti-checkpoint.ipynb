{
 "cells": [
  {
   "cell_type": "code",
   "execution_count": 29,
   "metadata": {
    "collapsed": true
   },
   "outputs": [
    {
     "name": "stdout",
     "output_type": "stream",
     "text": [
      "    TimeStamp  ExlSolIrr  IntSolIrr  SMA-h-On  TmpAmb C  TmpMdul C  \\\n",
      "0       00:00          0        0.0  34654.71     22.33      22.23   \n",
      "1       00:05          0        0.0  34654.79     22.33      22.23   \n",
      "2       00:10          0        0.0  34654.88     22.31      22.23   \n",
      "3       00:15          0        0.0  34654.96     22.33      22.23   \n",
      "4       00:20          0        0.0  34655.05     22.27      22.13   \n",
      "..        ...        ...        ...       ...       ...        ...   \n",
      "278     23:10          0        0.0  34677.69     22.43      22.13   \n",
      "279     23:15          0        0.0  34677.78     22.39      22.15   \n",
      "280     23:20          0        0.0  34677.86     22.29      21.85   \n",
      "281     23:25          0        0.0  34677.94     22.09      21.45   \n",
      "282     23:30          0        0.0  34678.03     22.05      21.15   \n",
      "\n",
      "     WindVel km/h  A.Ms.Amp  A.Ms.Vol  A.Ms.Watt  ...  Mode  Mt.TotOpTmh  \\\n",
      "0           11.86       NaN       NaN        NaN  ...   NaN          NaN   \n",
      "1            4.38       NaN       NaN        NaN  ...   NaN          NaN   \n",
      "2            5.08       NaN       NaN        NaN  ...   NaN          NaN   \n",
      "3            6.46       NaN       NaN        NaN  ...   NaN          NaN   \n",
      "4            4.34       NaN       NaN        NaN  ...   NaN          NaN   \n",
      "..            ...       ...       ...        ...  ...   ...          ...   \n",
      "278          6.04       NaN       NaN        NaN  ...   NaN          NaN   \n",
      "279          5.22       NaN       NaN        NaN  ...   NaN          NaN   \n",
      "280          4.38       NaN       NaN        NaN  ...   NaN          NaN   \n",
      "281          6.24       NaN       NaN        NaN  ...   NaN          NaN   \n",
      "282          3.68       NaN       NaN        NaN  ...   NaN          NaN   \n",
      "\n",
      "     Mt.TotTmh  Op.EvtCntUsr  Op.EvtNo  Op.GriSwStt  Op.TmsRmg  Pac  \\\n",
      "0          NaN           NaN       NaN          NaN        NaN  NaN   \n",
      "1          NaN           NaN       NaN          NaN        NaN  NaN   \n",
      "2          NaN           NaN       NaN          NaN        NaN  NaN   \n",
      "3          NaN           NaN       NaN          NaN        NaN  NaN   \n",
      "4          NaN           NaN       NaN          NaN        NaN  NaN   \n",
      "..         ...           ...       ...          ...        ...  ...   \n",
      "278        NaN           NaN       NaN          NaN        NaN  NaN   \n",
      "279        NaN           NaN       NaN          NaN        NaN  NaN   \n",
      "280        NaN           NaN       NaN          NaN        NaN  NaN   \n",
      "281        NaN           NaN       NaN          NaN        NaN  NaN   \n",
      "282        NaN           NaN       NaN          NaN        NaN  NaN   \n",
      "\n",
      "     PlntCtl.Stt  Serial Number  \n",
      "0            NaN            NaN  \n",
      "1            NaN            NaN  \n",
      "2            NaN            NaN  \n",
      "3            NaN            NaN  \n",
      "4            NaN            NaN  \n",
      "..           ...            ...  \n",
      "278          NaN            NaN  \n",
      "279          NaN            NaN  \n",
      "280          NaN            NaN  \n",
      "281          NaN            NaN  \n",
      "282          NaN            NaN  \n",
      "\n",
      "[283 rows x 362 columns]\n"
     ]
    }
   ],
   "source": [
    "import pandas as pd\n",
    "file_name = r\"C:\\Users\\Clairvoyant Cabbage\\Documents\\PythonProject\\Thesis\\UNSWData\\2018\\2018-01-01.csv\"\n",
    "#file_name = r\"C:\\Users\\Clairvoyant Cabbage\\Documents\\PythonProject\\Thesis\\84-Site_12-BP-Solar.csv\"\n",
    "df1 = pd.read_csv(file_name, delimiter=\";\", header=None, skiprows=6)\n",
    "headers = \"TimeStamp;ExlSolIrr;IntSolIrr;SMA-h-On;TmpAmb C;TmpMdul C;WindVel km/h;A.Ms.Amp;A.Ms.Vol;A.Ms.Watt;A1.Ms.Amp;B.Ms.Amp;B.Ms.Vol;B.Ms.Watt;B1.Ms.Amp;Error;E-Total;GM.TotWhOut;GridMs.A.phsA;GridMs.A.phsB;GridMs.A.phsC;GridMs.Hz;GridMs.PhV.phsA;GridMs.PhV.phsB;GridMs.PhV.phsC;GridMs.TotPFPrc;GridMs.TotVA;GridMs.TotVAr;GridMs.VA.phsA;GridMs.VA.phsB;GridMs.VA.phsC;GridMs.VAr.phsA;GridMs.VAr.phsB;GridMs.VAr.phsC;GridMs.W.phsA;GridMs.W.phsB;GridMs.W.phsC;Inv.TmpLimStt;InvCtl.Stt;Mode;Mt.TotOpTmh;Mt.TotTmh;Op.EvtCntUsr;Op.EvtNo;Op.GriSwStt;Op.Health;Op.Prio;Op.TmsRmg;Pac;PCM-DigInStt;PlntCtl.Stt;Serial Number;A.Ms.Amp;A.Ms.Vol;A.Ms.Watt;A1.Ms.Amp;A2.Ms.Amp;A3.Ms.Amp;A4.Ms.Amp;A5.Ms.Amp;B.Ms.Amp;B.Ms.Vol;B.Ms.Watt;B1.Ms.Amp;Error;E-Total;GridMs.Hz;GridMs.PhV.phsA;GridMs.PhV.phsB;GridMs.PhV.phsC;GridMs.TotPFPrc;Inv.TmpLimStt;InvCtl.Stt;Mode;Mt.TotOpTmh;Mt.TotTmh;Op.EvtCntUsr;Op.EvtNo;Op.GriSwStt;Op.TmsRmg;Pac;PlntCtl.Stt;Serial Number;A.Ms.Amp;A.Ms.Vol;A.Ms.Watt;A1.Ms.Amp;A2.Ms.Amp;A3.Ms.Amp;A4.Ms.Amp;A5.Ms.Amp;B.Ms.Amp;B.Ms.Vol;B.Ms.Watt;B1.Ms.Amp;Error;E-Total;GridMs.Hz;GridMs.PhV.phsA;GridMs.PhV.phsB;GridMs.PhV.phsC;GridMs.TotPFPrc;Inv.TmpLimStt;InvCtl.Stt;Mode;Mt.TotOpTmh;Mt.TotTmh;Op.EvtCntUsr;Op.EvtNo;Op.GriSwStt;Op.TmsRmg;Pac;PlntCtl.Stt;Serial Number;A.Ms.Amp;A.Ms.Vol;A.Ms.Watt;A1.Ms.Amp;A2.Ms.Amp;A3.Ms.Amp;A4.Ms.Amp;A5.Ms.Amp;B.Ms.Amp;B.Ms.Vol;B.Ms.Watt;B1.Ms.Amp;Error;E-Total;GridMs.Hz;GridMs.PhV.phsA;GridMs.PhV.phsB;GridMs.PhV.phsC;GridMs.TotPFPrc;Inv.TmpLimStt;InvCtl.Stt;Mode;Mt.TotOpTmh;Mt.TotTmh;Op.EvtCntUsr;Op.EvtNo;Op.GriSwStt;Op.TmsRmg;Pac;PlntCtl.Stt;Serial Number;A.Ms.Amp;A.Ms.Vol;A.Ms.Watt;A1.Ms.Amp;A2.Ms.Amp;A3.Ms.Amp;A4.Ms.Amp;A5.Ms.Amp;B.Ms.Amp;B.Ms.Vol;B.Ms.Watt;B1.Ms.Amp;Error;E-Total;GridMs.Hz;GridMs.PhV.phsA;GridMs.PhV.phsB;GridMs.PhV.phsC;GridMs.TotPFPrc;Inv.TmpLimStt;InvCtl.Stt;Mode;Mt.TotOpTmh;Mt.TotTmh;Op.EvtCntUsr;Op.EvtNo;Op.GriSwStt;Op.TmsRmg;Pac;PlntCtl.Stt;Serial Number;A.Ms.Amp;A.Ms.Vol;A.Ms.Watt;A1.Ms.Amp;A2.Ms.Amp;A3.Ms.Amp;A4.Ms.Amp;A5.Ms.Amp;B.Ms.Amp;B.Ms.Vol;B.Ms.Watt;B1.Ms.Amp;Error;E-Total;GridMs.Hz;GridMs.PhV.phsA;GridMs.PhV.phsB;GridMs.PhV.phsC;GridMs.TotPFPrc;Inv.TmpLimStt;InvCtl.Stt;Mode;Mt.TotOpTmh;Mt.TotTmh;Op.EvtCntUsr;Op.EvtNo;Op.GriSwStt;Op.TmsRmg;Pac;PlntCtl.Stt;Serial Number;A.Ms.Amp;A.Ms.Vol;A.Ms.Watt;A1.Ms.Amp;A2.Ms.Amp;A3.Ms.Amp;A4.Ms.Amp;A5.Ms.Amp;B.Ms.Amp;B.Ms.Vol;B.Ms.Watt;B1.Ms.Amp;Error;E-Total;GridMs.Hz;GridMs.PhV.phsA;GridMs.PhV.phsB;GridMs.PhV.phsC;GridMs.TotPFPrc;Inv.TmpLimStt;InvCtl.Stt;Mode;Mt.TotOpTmh;Mt.TotTmh;Op.EvtCntUsr;Op.EvtNo;Op.GriSwStt;Op.TmsRmg;Pac;PlntCtl.Stt;Serial Number;A.Ms.Amp;A.Ms.Vol;A.Ms.Watt;A1.Ms.Amp;A2.Ms.Amp;A3.Ms.Amp;A4.Ms.Amp;A5.Ms.Amp;B.Ms.Amp;B.Ms.Vol;B.Ms.Watt;B1.Ms.Amp;Error;E-Total;GridMs.Hz;GridMs.PhV.phsA;GridMs.PhV.phsB;GridMs.PhV.phsC;GridMs.TotPFPrc;Inv.TmpLimStt;InvCtl.Stt;Mode;Mt.TotOpTmh;Mt.TotTmh;Op.EvtCntUsr;Op.EvtNo;Op.GriSwStt;Op.TmsRmg;Pac;PlntCtl.Stt;Serial Number;A.Ms.Amp;A.Ms.Vol;A.Ms.Watt;A1.Ms.Amp;A2.Ms.Amp;A3.Ms.Amp;A4.Ms.Amp;A5.Ms.Amp;B.Ms.Amp;B.Ms.Vol;B.Ms.Watt;B1.Ms.Amp;Error;E-Total;GridMs.Hz;GridMs.PhV.phsA;GridMs.PhV.phsB;GridMs.PhV.phsC;GridMs.TotPFPrc;Inv.TmpLimStt;InvCtl.Stt;Mode;Mt.TotOpTmh;Mt.TotTmh;Op.EvtCntUsr;Op.EvtNo;Op.GriSwStt;Op.TmsRmg;Pac;PlntCtl.Stt;Serial Number;A.Ms.Amp;A.Ms.Vol;A.Ms.Watt;A1.Ms.Amp;A2.Ms.Amp;A3.Ms.Amp;A4.Ms.Amp;A5.Ms.Amp;B.Ms.Amp;B.Ms.Vol;B.Ms.Watt;B1.Ms.Amp;Error;E-Total;GridMs.Hz;GridMs.PhV.phsA;GridMs.PhV.phsB;GridMs.PhV.phsC;GridMs.TotPFPrc;Inv.TmpLimStt;InvCtl.Stt;Mode;Mt.TotOpTmh;Mt.TotTmh;Op.EvtCntUsr;Op.EvtNo;Op.GriSwStt;Op.TmsRmg;Pac;PlntCtl.Stt;Serial Number;A.Ms.Amp;A.Ms.Vol;A.Ms.Watt;A1.Ms.Amp;A2.Ms.Amp;A3.Ms.Amp;A4.Ms.Amp;A5.Ms.Amp;B.Ms.Amp;B.Ms.Vol;B.Ms.Watt;B1.Ms.Amp;Error;E-Total;GridMs.Hz;GridMs.PhV.phsA;GridMs.PhV.phsB;GridMs.PhV.phsC;GridMs.TotPFPrc;Inv.TmpLimStt;InvCtl.Stt;Mode;Mt.TotOpTmh;Mt.TotTmh;Op.EvtCntUsr;Op.EvtNo;Op.GriSwStt;Op.TmsRmg;Pac;PlntCtl.Stt;Serial Number\"\n",
    "headers = dict(enumerate(headers.split(';')))\n",
    "df1 = df1.rename(columns = headers)\n",
    "print(df1)"
   ]
  },
  {
   "cell_type": "code",
   "execution_count": 1,
   "metadata": {},
   "outputs": [],
   "source": []
  },
  {
   "cell_type": "code",
   "execution_count": null,
   "metadata": {},
   "outputs": [],
   "source": []
  }
 ],
 "metadata": {
  "kernelspec": {
   "display_name": "Python 3",
   "language": "python",
   "name": "python3"
  },
  "language_info": {
   "codemirror_mode": {
    "name": "ipython",
    "version": 3
   },
   "file_extension": ".py",
   "mimetype": "text/x-python",
   "name": "python",
   "nbconvert_exporter": "python",
   "pygments_lexer": "ipython3",
   "version": "3.7.4"
  }
 },
 "nbformat": 4,
 "nbformat_minor": 1
}
